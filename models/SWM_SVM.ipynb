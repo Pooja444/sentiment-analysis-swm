{
  "cells": [
    {
      "cell_type": "code",
      "execution_count": 2,
      "metadata": {
        "id": "V_z7xk5MP1ir"
      },
      "outputs": [],
      "source": [
        "import pandas as pd\n",
        "from sklearn.model_selection import train_test_split\n",
        "from sklearn.feature_extraction.text import TfidfVectorizer\n",
        "from sklearn.svm import SVC\n",
        "from sklearn.metrics import accuracy_score, classification_report"
      ]
    },
    {
      "cell_type": "code",
      "execution_count": 5,
      "metadata": {
        "colab": {
          "base_uri": "https://localhost:8080/"
        },
        "id": "Rf4eWjxvQZyt",
        "outputId": "cc3f1db0-2f1e-4318-9122-2b25498a4d55"
      },
      "outputs": [
        {
          "output_type": "stream",
          "name": "stdout",
          "text": [
            "  target         ids                          date      flag             user  \\\n",
            "1      0  1467810369  Mon Apr 06 22:19:45 PDT 2009  NO_QUERY  _TheSpecialOne_   \n",
            "2      0  1467810672  Mon Apr 06 22:19:49 PDT 2009  NO_QUERY    scotthamilton   \n",
            "3      0  1467810917  Mon Apr 06 22:19:53 PDT 2009  NO_QUERY         mattycus   \n",
            "4      0  1467811184  Mon Apr 06 22:19:57 PDT 2009  NO_QUERY          ElleCTF   \n",
            "5      0  1467811193  Mon Apr 06 22:19:57 PDT 2009  NO_QUERY           Karoli   \n",
            "\n",
            "                                                text  \n",
            "1  switchfoot   Awww thats bummer You shoulda got...  \n",
            "2  upset cant update Facebook texting it might cr...  \n",
            "3  Kenichan I dived many times ball Managed save ...  \n",
            "4                   whole body feels itchy like fire  \n",
            "5  nationwideclass no behaving all im mad here I ...  \n"
          ]
        },
        {
          "output_type": "stream",
          "name": "stderr",
          "text": [
            "<ipython-input-5-b068aec7b6a7>:7: DtypeWarning: Columns (0,1) have mixed types. Specify dtype option on import or set low_memory=False.\n",
            "  data = pd.read_csv('/content/drive/MyDrive/SWM/preprocessed_dataset.csv', encoding='latin-1',\n"
          ]
        }
      ],
      "source": [
        "# Load the Twitter dataset into a pandas DataFrame\n",
        "# df = pd.read_csv('/content/drive/MyDrive/SWM/preprocessed_dataset.csv')\n",
        "# print(df.head())\n",
        "\n",
        "# Load the preprocessed dataset\n",
        "# Replace this with the actual loading of your preprocessed dataset\n",
        "data = pd.read_csv('/content/drive/MyDrive/SWM/preprocessed_dataset.csv', encoding='latin-1',\n",
        "                   names=['target', 'ids', 'date', 'flag', 'user', 'text'])\n",
        "data = data.iloc[1:]\n",
        "print(data.head())"
      ]
    },
    {
      "cell_type": "code",
      "execution_count": 6,
      "metadata": {
        "colab": {
          "base_uri": "https://localhost:8080/"
        },
        "id": "Gj5rbGYIRZPT",
        "outputId": "1719aeb1-4d5b-4eb4-fe6b-48a76e7d6d29"
      },
      "outputs": [
        {
          "output_type": "stream",
          "name": "stdout",
          "text": [
            "Index(['target', 'ids', 'date', 'flag', 'user', 'text'], dtype='object')\n"
          ]
        }
      ],
      "source": [
        "# Get the column names\n",
        "column_names = data.columns\n",
        "\n",
        "# Print the column names\n",
        "print(column_names)"
      ]
    },
    {
      "cell_type": "code",
      "source": [
        "from google.colab import drive\n",
        "drive.mount('/content/drive')"
      ],
      "metadata": {
        "colab": {
          "base_uri": "https://localhost:8080/"
        },
        "id": "fy-2deu6EmGB",
        "outputId": "a0a92c93-2a64-4956-b967-989440bc1d82"
      },
      "execution_count": 7,
      "outputs": [
        {
          "output_type": "stream",
          "name": "stdout",
          "text": [
            "Drive already mounted at /content/drive; to attempt to forcibly remount, call drive.mount(\"/content/drive\", force_remount=True).\n"
          ]
        }
      ]
    },
    {
      "cell_type": "code",
      "execution_count": 8,
      "metadata": {
        "colab": {
          "base_uri": "https://localhost:8080/"
        },
        "id": "-6XQl55xd9zR",
        "outputId": "563cf6fb-7919-4e87-f014-2a83d65f61cf"
      },
      "outputs": [
        {
          "output_type": "stream",
          "name": "stdout",
          "text": [
            "1599889\n"
          ]
        }
      ],
      "source": [
        "# Get the number of rows using shape attribute\n",
        "#Removing empty rows\n",
        "data = data.dropna()\n",
        "num_rows = data.shape[0]\n",
        "data['target'] = data['target'].astype(int)\n",
        "\n",
        "# Print the number of rows\n",
        "print(num_rows)"
      ]
    },
    {
      "cell_type": "code",
      "execution_count": 9,
      "metadata": {
        "id": "CiMT_5hxKW1y"
      },
      "outputs": [],
      "source": [
        "# Sample a fraction of the dataset (e.g., 10%)\n",
        "data = data.sample(frac=0.1, random_state=42)"
      ]
    },
    {
      "cell_type": "code",
      "execution_count": 10,
      "metadata": {
        "id": "k26xelz5eYFR"
      },
      "outputs": [],
      "source": [
        "# Split the dataset into training and testing sets\n",
        "X = data['text']\n",
        "y = data['target']\n",
        "X_train, X_test, y_train, y_test = train_test_split(X, y, test_size=0.2, random_state=42)"
      ]
    },
    {
      "cell_type": "code",
      "execution_count": 11,
      "metadata": {
        "id": "45MTbCL5uUgG"
      },
      "outputs": [],
      "source": [
        "# Convert the text data into numeric format\n",
        "vectorizer = TfidfVectorizer(ngram_range=(1, 2), max_features=10000)\n",
        "X_train_vect = vectorizer.fit_transform(X_train)\n",
        "X_test_vect = vectorizer.transform(X_test)"
      ]
    },
    {
      "cell_type": "code",
      "execution_count": 12,
      "metadata": {
        "colab": {
          "base_uri": "https://localhost:8080/",
          "height": 92
        },
        "id": "2g67Vv936C1z",
        "outputId": "bdf1c6d9-0078-4510-9512-7414ebfef262"
      },
      "outputs": [
        {
          "output_type": "stream",
          "name": "stdout",
          "text": [
            "[LibSVM]"
          ]
        },
        {
          "output_type": "execute_result",
          "data": {
            "text/plain": [
              "SVC(C=1, kernel='linear', random_state=42, verbose=2)"
            ],
            "text/html": [
              "<style>#sk-container-id-1 {color: black;background-color: white;}#sk-container-id-1 pre{padding: 0;}#sk-container-id-1 div.sk-toggleable {background-color: white;}#sk-container-id-1 label.sk-toggleable__label {cursor: pointer;display: block;width: 100%;margin-bottom: 0;padding: 0.3em;box-sizing: border-box;text-align: center;}#sk-container-id-1 label.sk-toggleable__label-arrow:before {content: \"▸\";float: left;margin-right: 0.25em;color: #696969;}#sk-container-id-1 label.sk-toggleable__label-arrow:hover:before {color: black;}#sk-container-id-1 div.sk-estimator:hover label.sk-toggleable__label-arrow:before {color: black;}#sk-container-id-1 div.sk-toggleable__content {max-height: 0;max-width: 0;overflow: hidden;text-align: left;background-color: #f0f8ff;}#sk-container-id-1 div.sk-toggleable__content pre {margin: 0.2em;color: black;border-radius: 0.25em;background-color: #f0f8ff;}#sk-container-id-1 input.sk-toggleable__control:checked~div.sk-toggleable__content {max-height: 200px;max-width: 100%;overflow: auto;}#sk-container-id-1 input.sk-toggleable__control:checked~label.sk-toggleable__label-arrow:before {content: \"▾\";}#sk-container-id-1 div.sk-estimator input.sk-toggleable__control:checked~label.sk-toggleable__label {background-color: #d4ebff;}#sk-container-id-1 div.sk-label input.sk-toggleable__control:checked~label.sk-toggleable__label {background-color: #d4ebff;}#sk-container-id-1 input.sk-hidden--visually {border: 0;clip: rect(1px 1px 1px 1px);clip: rect(1px, 1px, 1px, 1px);height: 1px;margin: -1px;overflow: hidden;padding: 0;position: absolute;width: 1px;}#sk-container-id-1 div.sk-estimator {font-family: monospace;background-color: #f0f8ff;border: 1px dotted black;border-radius: 0.25em;box-sizing: border-box;margin-bottom: 0.5em;}#sk-container-id-1 div.sk-estimator:hover {background-color: #d4ebff;}#sk-container-id-1 div.sk-parallel-item::after {content: \"\";width: 100%;border-bottom: 1px solid gray;flex-grow: 1;}#sk-container-id-1 div.sk-label:hover label.sk-toggleable__label {background-color: #d4ebff;}#sk-container-id-1 div.sk-serial::before {content: \"\";position: absolute;border-left: 1px solid gray;box-sizing: border-box;top: 0;bottom: 0;left: 50%;z-index: 0;}#sk-container-id-1 div.sk-serial {display: flex;flex-direction: column;align-items: center;background-color: white;padding-right: 0.2em;padding-left: 0.2em;position: relative;}#sk-container-id-1 div.sk-item {position: relative;z-index: 1;}#sk-container-id-1 div.sk-parallel {display: flex;align-items: stretch;justify-content: center;background-color: white;position: relative;}#sk-container-id-1 div.sk-item::before, #sk-container-id-1 div.sk-parallel-item::before {content: \"\";position: absolute;border-left: 1px solid gray;box-sizing: border-box;top: 0;bottom: 0;left: 50%;z-index: -1;}#sk-container-id-1 div.sk-parallel-item {display: flex;flex-direction: column;z-index: 1;position: relative;background-color: white;}#sk-container-id-1 div.sk-parallel-item:first-child::after {align-self: flex-end;width: 50%;}#sk-container-id-1 div.sk-parallel-item:last-child::after {align-self: flex-start;width: 50%;}#sk-container-id-1 div.sk-parallel-item:only-child::after {width: 0;}#sk-container-id-1 div.sk-dashed-wrapped {border: 1px dashed gray;margin: 0 0.4em 0.5em 0.4em;box-sizing: border-box;padding-bottom: 0.4em;background-color: white;}#sk-container-id-1 div.sk-label label {font-family: monospace;font-weight: bold;display: inline-block;line-height: 1.2em;}#sk-container-id-1 div.sk-label-container {text-align: center;}#sk-container-id-1 div.sk-container {/* jupyter's `normalize.less` sets `[hidden] { display: none; }` but bootstrap.min.css set `[hidden] { display: none !important; }` so we also need the `!important` here to be able to override the default hidden behavior on the sphinx rendered scikit-learn.org. See: https://github.com/scikit-learn/scikit-learn/issues/21755 */display: inline-block !important;position: relative;}#sk-container-id-1 div.sk-text-repr-fallback {display: none;}</style><div id=\"sk-container-id-1\" class=\"sk-top-container\"><div class=\"sk-text-repr-fallback\"><pre>SVC(C=1, kernel=&#x27;linear&#x27;, random_state=42, verbose=2)</pre><b>In a Jupyter environment, please rerun this cell to show the HTML representation or trust the notebook. <br />On GitHub, the HTML representation is unable to render, please try loading this page with nbviewer.org.</b></div><div class=\"sk-container\" hidden><div class=\"sk-item\"><div class=\"sk-estimator sk-toggleable\"><input class=\"sk-toggleable__control sk-hidden--visually\" id=\"sk-estimator-id-1\" type=\"checkbox\" checked><label for=\"sk-estimator-id-1\" class=\"sk-toggleable__label sk-toggleable__label-arrow\">SVC</label><div class=\"sk-toggleable__content\"><pre>SVC(C=1, kernel=&#x27;linear&#x27;, random_state=42, verbose=2)</pre></div></div></div></div></div>"
            ]
          },
          "metadata": {},
          "execution_count": 12
        }
      ],
      "source": [
        "# Train the SVM model\n",
        "svm = SVC(kernel='linear', C=1, random_state=42, verbose=2)\n",
        "svm.fit(X_train_vect, y_train)"
      ]
    },
    {
      "cell_type": "code",
      "execution_count": 41,
      "metadata": {
        "id": "10ZPyVahCztA"
      },
      "outputs": [],
      "source": [
        "import string\n",
        "import re\n",
        "import nltk\n",
        "from nltk.corpus import stopwords\n",
        "import pandas as pd\n",
        "from sklearn.model_selection import train_test_split\n",
        "from sklearn.feature_extraction.text import TfidfVectorizer\n",
        "from sklearn.svm import SVC\n",
        "from sklearn.metrics import accuracy_score, classification_report\n",
        "import time\n",
        "import json\n",
        "import numpy as np"
      ]
    },
    {
      "cell_type": "code",
      "source": [
        "nltk.download(\"stopwords\")\n",
        "stopWords = set(stopwords.words(\"english\"))"
      ],
      "metadata": {
        "colab": {
          "base_uri": "https://localhost:8080/"
        },
        "id": "E39L4K5fWUJk",
        "outputId": "951e4331-5ab3-46e5-973b-2dce1201d305"
      },
      "execution_count": 42,
      "outputs": [
        {
          "output_type": "stream",
          "name": "stderr",
          "text": [
            "[nltk_data] Downloading package stopwords to /root/nltk_data...\n",
            "[nltk_data]   Package stopwords is already up-to-date!\n"
          ]
        }
      ]
    },
    {
      "cell_type": "code",
      "source": [
        "def preprocess_text(text):\n",
        "    def removeStopwords(text):\n",
        "        tokens = []\n",
        "        for token in text.split():\n",
        "            if token.lower() not in stopWords:\n",
        "                tokens.append(token.lower())\n",
        "        return \" \".join(tokens)\n",
        "\n",
        "    def removeURL(text):\n",
        "        url = re.compile(r\"https?://\\S+|www\\.\\S+\")\n",
        "        return url.sub(r\"\", text)\n",
        "\n",
        "    def removeHTML(text):\n",
        "        html = re.compile(r\"<.*?>|&([a-z0-9]+|#[0-9]{1,6}|#x[0-9a-f]{1,6});\")\n",
        "        return re.sub(html, \"\", text)\n",
        "\n",
        "    def removeSymbols(text):\n",
        "        table = str.maketrans(\"\", \"\", string.punctuation)\n",
        "        return text.translate(table)\n",
        "\n",
        "    preprocessed_text = removeStopwords(text)\n",
        "    preprocessed_text = removeURL(preprocessed_text)\n",
        "    preprocessed_text = removeHTML(preprocessed_text)\n",
        "    preprocessed_text = removeSymbols(preprocessed_text)\n",
        "\n",
        "    return preprocessed_text\n",
        "\n",
        "def sigmoid(x):\n",
        "    return 1 / (1 + np.exp(-x))\n",
        "\n",
        "def predict_sentiment(text, model, vectorizer):\n",
        "    start_time = time.time()\n",
        "    \n",
        "    preprocessed_text = preprocess_text(text)\n",
        "    text_vect = vectorizer.transform([preprocessed_text])\n",
        "    \n",
        "    sentiment_prediction = model.predict(text_vect)\n",
        "    raw_score = model.decision_function(text_vect)[0]\n",
        "    confidence_score = sigmoid(raw_score)\n",
        "    \n",
        "    elapsed_time = time.time() - start_time\n",
        "    \n",
        "    sentiment = 'POSITIVE' if sentiment_prediction[0] == 4 else 'NEGATIVE'\n",
        "    \n",
        "    response = {\n",
        "        'label': sentiment,\n",
        "        'score': confidence_score,\n",
        "        'elapsed_time': elapsed_time\n",
        "    }\n",
        "    \n",
        "    return json.dumps(response)"
      ],
      "metadata": {
        "id": "Xg0ynqpEWaac"
      },
      "execution_count": 43,
      "outputs": []
    },
    {
      "cell_type": "code",
      "source": [
        "# Test the model with a new Twitter text\n",
        "test_text = \"Just had the best day ever at the beach! Sun, sand, and waves. Can't wait to go back! #summerfun #beachday\"\n",
        "sentiment_json = predict_sentiment(test_text, svm, vectorizer)\n",
        "\n",
        "# Print the JSON response\n",
        "print(sentiment_json)"
      ],
      "metadata": {
        "colab": {
          "base_uri": "https://localhost:8080/"
        },
        "id": "iMmcmZLyccUe",
        "outputId": "9d09d4ea-5aa9-444b-8aa8-a7224694e565"
      },
      "execution_count": 44,
      "outputs": [
        {
          "output_type": "stream",
          "name": "stdout",
          "text": [
            "{\"label\": \"POSITIVE\", \"score\": 0.6136981900168118, \"elapsed_time\": 0.1604454517364502}\n"
          ]
        }
      ]
    },
    {
      "cell_type": "code",
      "source": [
        "# Test the model with a new Twitter text\n",
        "test_text = \"Feeling so frustrated with this never-ending traffic. Why does it always have to be this way? #trafficwoes #ugh\"\n",
        "sentiment_json = predict_sentiment(test_text, svm, vectorizer)\n",
        "\n",
        "# Print the JSON response\n",
        "print(sentiment_json)"
      ],
      "metadata": {
        "colab": {
          "base_uri": "https://localhost:8080/"
        },
        "id": "HUag2PWpUD5S",
        "outputId": "255cba5a-7f50-4912-acbb-29364a00f806"
      },
      "execution_count": 45,
      "outputs": [
        {
          "output_type": "stream",
          "name": "stdout",
          "text": [
            "{\"label\": \"NEGATIVE\", \"score\": 0.06964910343834048, \"elapsed_time\": 0.0983426570892334}\n"
          ]
        }
      ]
    },
    {
      "cell_type": "code",
      "source": [
        "# Test the model with a new Twitter text\n",
        "test_text = \"Just got my dream job offer! So excited to start this new chapter in my life. #dreamjob #careermove\"\n",
        "sentiment_json = predict_sentiment(test_text, svm, vectorizer)\n",
        "\n",
        "# Print the JSON response\n",
        "print(sentiment_json)"
      ],
      "metadata": {
        "colab": {
          "base_uri": "https://localhost:8080/"
        },
        "outputId": "90b780a5-5bd4-4010-dee9-1339e7193462",
        "id": "gUkRHv65dzNd"
      },
      "execution_count": 46,
      "outputs": [
        {
          "output_type": "stream",
          "name": "stdout",
          "text": [
            "{\"label\": \"POSITIVE\", \"score\": 0.7847887549257667, \"elapsed_time\": 0.06306076049804688}\n"
          ]
        }
      ]
    },
    {
      "cell_type": "code",
      "source": [
        "# Test the model with a new Twitter text\n",
        "test_text = \"The film does a good job of balancing this large cast and it’s just a fun superhero movie with a lot of heart.\"\n",
        "sentiment_json = predict_sentiment(test_text, svm, vectorizer)\n",
        "\n",
        "# Print the JSON response\n",
        "print(sentiment_json)"
      ],
      "metadata": {
        "colab": {
          "base_uri": "https://localhost:8080/"
        },
        "id": "c_-ld9MYd2Qv",
        "outputId": "3181193c-9b71-4845-b494-f89235744cb4"
      },
      "execution_count": 47,
      "outputs": [
        {
          "output_type": "stream",
          "name": "stdout",
          "text": [
            "{\"label\": \"POSITIVE\", \"score\": 0.7873562540387439, \"elapsed_time\": 0.053484439849853516}\n"
          ]
        }
      ]
    },
    {
      "cell_type": "code",
      "source": [
        "# Test the model with a new Twitter text\n",
        "test_text = \"So disappointed with the customer service at this store. They were rude and unhelpful. #customerservicefail #disappointed\"\n",
        "sentiment_json = predict_sentiment(test_text, svm, vectorizer)\n",
        "\n",
        "# Print the JSON response\n",
        "print(sentiment_json)"
      ],
      "metadata": {
        "colab": {
          "base_uri": "https://localhost:8080/"
        },
        "id": "genJJdQ6d959",
        "outputId": "03f70a63-39c4-4f6f-db1c-eee03a0e424a"
      },
      "execution_count": 48,
      "outputs": [
        {
          "output_type": "stream",
          "name": "stdout",
          "text": [
            "{\"label\": \"NEGATIVE\", \"score\": 0.03726305645904526, \"elapsed_time\": 0.04345273971557617}\n"
          ]
        }
      ]
    },
    {
      "cell_type": "code",
      "source": [
        "import pickle\n",
        "\n",
        "# Save the trained model and vectorizer to a pickle file\n",
        "with open('SVM.pkl', 'wb') as f:\n",
        "    pickle.dump((svm, vectorizer), f)"
      ],
      "metadata": {
        "id": "7MEohtDOeGCt"
      },
      "execution_count": 50,
      "outputs": []
    },
    {
      "cell_type": "code",
      "source": [],
      "metadata": {
        "id": "4D2dL_Ypes7W"
      },
      "execution_count": null,
      "outputs": []
    }
  ],
  "metadata": {
    "accelerator": "TPU",
    "colab": {
      "provenance": []
    },
    "gpuClass": "standard",
    "kernelspec": {
      "display_name": "Python 3",
      "name": "python3"
    },
    "language_info": {
      "name": "python"
    }
  },
  "nbformat": 4,
  "nbformat_minor": 0
}